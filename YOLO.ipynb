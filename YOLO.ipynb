{
  "nbformat": 4,
  "nbformat_minor": 0,
  "metadata": {
    "colab": {
      "name": "YOLO.ipynb",
      "provenance": [],
      "authorship_tag": "ABX9TyNkI/oghjgjLtlkcHg5jOPB",
      "include_colab_link": true
    },
    "kernelspec": {
      "name": "python3",
      "display_name": "Python 3"
    }
  },
  "cells": [
    {
      "cell_type": "markdown",
      "metadata": {
        "id": "view-in-github",
        "colab_type": "text"
      },
      "source": [
        "<a href=\"https://colab.research.google.com/github/SaW2017/ClearingDesire_AI_ML/blob/master/YOLO.ipynb\" target=\"_parent\"><img src=\"https://colab.research.google.com/assets/colab-badge.svg\" alt=\"Open In Colab\"/></a>"
      ]
    },
    {
      "cell_type": "code",
      "metadata": {
        "id": "tsMON84GeAhN"
      },
      "source": [
        "# Setup YOLO and Darknet in Google-Colab, because we don`t have a great GPU\r\n",
        "# and with google colab the use is free up to 12 hours at a time\r\n"
      ],
      "execution_count": 1,
      "outputs": []
    },
    {
      "cell_type": "code",
      "metadata": {
        "id": "v9SdW1BLh-Dr"
      },
      "source": [
        "# clone darknet github-Repo\r\n",
        "!git clone https://github.com/AlexeyAB/darknet\r\n",
        "  \r\n",
        "!apt-get update\r\n",
        "!apt-get upgrade\r\n",
        "\r\n",
        "# install dependencies for open-CV\r\n",
        "!apt-get install build-essential\r\n",
        "!apt-get install cmake git libgtk2.0-dev pkg-config libavcodec-dev libavformat-dev libswscale-dev\r\n",
        "\r\n",
        "!apt-get install libavcodec-dev libavformat-dev libswscale-d\r\n",
        "\r\n",
        "!apt-get install libopencv-dev\r\n",
        "\r\n",
        "  \r\n",
        "%cd darknet\r\n",
        "\r\n",
        "!ls\r\n",
        "!sed -i 's/OPENCV=0/OPENCV=1/g' Makefile\r\n",
        "!sed -i 's/GPU=0/GPU=1/g' Makefile\r\n",
        "\r\n",
        "\r\n",
        "!ls\r\n",
        "%cd ../\r\n",
        "!ls\r\n",
        "\r\n",
        "\r\n",
        "!apt install g++-5\r\n",
        "!apt install gcc-5\r\n",
        "\r\n",
        "!apt update\r\n",
        "!apt upgrade\r\n",
        "\r\n",
        "import tensorflow as tf\r\n",
        "device_name = tf.test.gpu_device_name()\r\n",
        "print(device_name)\r\n",
        "\r\n",
        "print(\"'sup!'\")\r\n",
        "\r\n",
        "!/usr/local/cuda/bin/nvcc --version\r\n",
        "\r\n",
        "%cd darknet\r\n",
        "!wget https://pjreddie.com/media/files/yolov3.weights\r\n",
        "!make\r\n",
        "\r\n",
        "!./darknet detect cfg/yolov3.cfg yolov3.weights data/person.jpg\r\n",
        "\r\n",
        "def imShow(path):\r\n",
        "  import cv2\r\n",
        "  import matplotlib.pyplot as plt\r\n",
        "  %matplotlib inline\r\n",
        "\r\n",
        "  image = cv2.imread(path)\r\n",
        "  height, width = image.shape[:2]\r\n",
        "  resized_image = cv2.resize(image,(3*width, 3*height), interpolation = cv2.INTER_CUBIC)\r\n",
        "\r\n",
        "  fig = plt.gcf()\r\n",
        "  fig.set_size_inches(18, 10)\r\n",
        "  plt.axis(\"off\")\r\n",
        "  #plt.rcParams['figure.figsize'] = [10, 5]\r\n",
        "  plt.imshow(cv2.cvtColor(resized_image, cv2.COLOR_BGR2RGB))\r\n",
        "  plt.show()\r\n",
        "  \r\n",
        "  \r\n",
        "def upload():\r\n",
        "  from google.colab import files\r\n",
        "  uploaded = files.upload() \r\n",
        "  for name, data in uploaded.items():\r\n",
        "    with open(name, 'wb') as f:\r\n",
        "      f.write(data)\r\n",
        "      print ('saved file', name)\r\n",
        "def download(path):\r\n",
        "  from google.colab import files\r\n",
        "  files.download(path)\r\n",
        "  \r\n",
        "  \r\n",
        "\r\n",
        "imShow('predictions.jpg')"
      ],
      "execution_count": null,
      "outputs": []
    }
  ]
}